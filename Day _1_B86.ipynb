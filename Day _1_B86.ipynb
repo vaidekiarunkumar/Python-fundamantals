{
 "cells": [
  {
   "cell_type": "code",
   "execution_count": 1,
   "id": "3a416ed8-f835-4c70-b55a-152efd19d1b1",
   "metadata": {},
   "outputs": [
    {
     "name": "stdout",
     "output_type": "stream",
     "text": [
      "Hello world welcome to python training program\n"
     ]
    }
   ],
   "source": [
    "print(\"Hello world welcome to python training program\")"
   ]
  },
  {
   "cell_type": "code",
   "execution_count": null,
   "id": "4a6aeda3-0a7e-418f-8571-f665cc54d829",
   "metadata": {},
   "outputs": [],
   "source": []
  },
  {
   "cell_type": "code",
   "execution_count": null,
   "id": "6cca8d2f-084f-4ae8-b026-51e3fd7f916e",
   "metadata": {},
   "outputs": [],
   "source": []
  }
 ],
 "metadata": {
  "kernelspec": {
   "display_name": "Python 3 (ipykernel)",
   "language": "python",
   "name": "python3"
  },
  "language_info": {
   "codemirror_mode": {
    "name": "ipython",
    "version": 3
   },
   "file_extension": ".py",
   "mimetype": "text/x-python",
   "name": "python",
   "nbconvert_exporter": "python",
   "pygments_lexer": "ipython3",
   "version": "3.11.7"
  }
 },
 "nbformat": 4,
 "nbformat_minor": 5
}
