{
 "cells": [
  {
   "cell_type": "code",
   "execution_count": 1,
   "id": "1c023943-e5ce-4bd0-981e-1b8c782e68fd",
   "metadata": {},
   "outputs": [
    {
     "ename": "SyntaxError",
     "evalue": "invalid syntax (1651238233.py, line 1)",
     "output_type": "error",
     "traceback": [
      "\u001b[1;36m  Cell \u001b[1;32mIn[1], line 1\u001b[1;36m\u001b[0m\n\u001b[1;33m    my name=\"vaideki\"\u001b[0m\n\u001b[1;37m       ^\u001b[0m\n\u001b[1;31mSyntaxError\u001b[0m\u001b[1;31m:\u001b[0m invalid syntax\n"
     ]
    }
   ],
   "source": [
    "my name=\"vaideki\"\n",
    "print (myname)"
   ]
  },
  {
   "cell_type": "code",
   "execution_count": 2,
   "id": "41e3da5f-bc6b-428d-98da-f6f36645102c",
   "metadata": {},
   "outputs": [
    {
     "name": "stdout",
     "output_type": "stream",
     "text": [
      "vaideki\n"
     ]
    }
   ],
   "source": [
    "myname=\"vaideki\"\n",
    "print(myname)"
   ]
  },
  {
   "cell_type": "code",
   "execution_count": 3,
   "id": "6b945d7f-fabc-46c6-b074-b82514466510",
   "metadata": {},
   "outputs": [
    {
     "ename": "SyntaxError",
     "evalue": "invalid decimal literal (1328078962.py, line 1)",
     "output_type": "error",
     "traceback": [
      "\u001b[1;36m  Cell \u001b[1;32mIn[3], line 1\u001b[1;36m\u001b[0m\n\u001b[1;33m    8myname=\"vaideki\"\u001b[0m\n\u001b[1;37m    ^\u001b[0m\n\u001b[1;31mSyntaxError\u001b[0m\u001b[1;31m:\u001b[0m invalid decimal literal\n"
     ]
    }
   ],
   "source": [
    "8myname=\"vaideki\"\n",
    "print (8myname)"
   ]
  },
  {
   "cell_type": "code",
   "execution_count": 5,
   "id": "a4ea0239-bca3-4cc2-b3ac-747f08b1b830",
   "metadata": {},
   "outputs": [
    {
     "name": "stdout",
     "output_type": "stream",
     "text": [
      "vaideki\n"
     ]
    }
   ],
   "source": [
    "my8name=\"vaideki\"\n",
    "print(my8name)"
   ]
  },
  {
   "cell_type": "code",
   "execution_count": 6,
   "id": "63900298-6ea6-46d8-bd61-e4265280fa45",
   "metadata": {},
   "outputs": [
    {
     "name": "stdout",
     "output_type": "stream",
     "text": [
      "vaideki\n"
     ]
    }
   ],
   "source": [
    "my_name=\"vaideki\"\n",
    "print(my_name)"
   ]
  },
  {
   "cell_type": "code",
   "execution_count": 7,
   "id": "04792c19-8ea0-4f58-86dd-2b8f211000e5",
   "metadata": {},
   "outputs": [
    {
     "ename": "SyntaxError",
     "evalue": "invalid syntax (918936365.py, line 1)",
     "output_type": "error",
     "traceback": [
      "\u001b[1;36m  Cell \u001b[1;32mIn[7], line 1\u001b[1;36m\u001b[0m\n\u001b[1;33m    m$name=\"vaideki\"\u001b[0m\n\u001b[1;37m     ^\u001b[0m\n\u001b[1;31mSyntaxError\u001b[0m\u001b[1;31m:\u001b[0m invalid syntax\n"
     ]
    }
   ],
   "source": [
    "m$name=\"vaideki\"\n",
    "print(my$name)"
   ]
  },
  {
   "cell_type": "code",
   "execution_count": 8,
   "id": "128df7d6-da7b-4c2b-9f47-fd6e96635f03",
   "metadata": {},
   "outputs": [
    {
     "name": "stdout",
     "output_type": "stream",
     "text": [
      "vaideki\n"
     ]
    }
   ],
   "source": [
    "myname=\"vaideki\"\n",
    "print(my8name)"
   ]
  },
  {
   "cell_type": "code",
   "execution_count": 9,
   "id": "5eeb80b8-5879-43a2-9e29-6a95919175ed",
   "metadata": {},
   "outputs": [
    {
     "name": "stdout",
     "output_type": "stream",
     "text": [
      "vaideki arunkumar\n",
      "Vaideki Arunkumar\n",
      "VAIDEKI ARUNKUMAR\n",
      "vaideki arunkumar\n"
     ]
    },
    {
     "data": {
      "text/plain": [
       "str"
      ]
     },
     "execution_count": 9,
     "metadata": {},
     "output_type": "execute_result"
    }
   ],
   "source": [
    "fullname ='vaideki arunkumar'\n",
    "print(fullname)\n",
    "print(fullname.title())\n",
    "print(fullname.upper())\n",
    "print(fullname.lower())\n",
    "type(fullname)"
   ]
  },
  {
   "cell_type": "code",
   "execution_count": null,
   "id": "0dd5fadd-f6de-4aad-8ccb-f37ac5a58f8c",
   "metadata": {},
   "outputs": [],
   "source": []
  }
 ],
 "metadata": {
  "kernelspec": {
   "display_name": "Python 3 (ipykernel)",
   "language": "python",
   "name": "python3"
  },
  "language_info": {
   "codemirror_mode": {
    "name": "ipython",
    "version": 3
   },
   "file_extension": ".py",
   "mimetype": "text/x-python",
   "name": "python",
   "nbconvert_exporter": "python",
   "pygments_lexer": "ipython3",
   "version": "3.11.7"
  }
 },
 "nbformat": 4,
 "nbformat_minor": 5
}
