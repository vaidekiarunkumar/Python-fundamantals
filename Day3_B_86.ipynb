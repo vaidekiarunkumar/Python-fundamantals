{
 "cells": [
  {
   "cell_type": "code",
   "execution_count": 1,
   "id": "43d0a3cf-7900-47ae-a047-184f74d5ee33",
   "metadata": {},
   "outputs": [
    {
     "name": "stdout",
     "output_type": "stream",
     "text": [
      "The full name is arunkumar\n"
     ]
    }
   ],
   "source": [
    "#f strings\n",
    "firstname=\"arun\"\n",
    "lastname=\"kumar\"\n",
    "fullname=f\"The full name is {firstname}{lastname}\"\n",
    "print (fullname)"
   ]
  },
  {
   "cell_type": "code",
   "execution_count": 2,
   "id": "530c0290-bbc1-41a5-8d73-714c02cc09c6",
   "metadata": {},
   "outputs": [
    {
     "name": "stdout",
     "output_type": "stream",
     "text": [
      "The Full Name Is Arunkumar\n"
     ]
    }
   ],
   "source": [
    "print(fullname.title())"
   ]
  },
  {
   "cell_type": "code",
   "execution_count": 3,
   "id": "0923db18-a536-4619-b129-86cc126d17fb",
   "metadata": {},
   "outputs": [
    {
     "name": "stdout",
     "output_type": "stream",
     "text": [
      "pythonjavadonetscriptreactcc++\n"
     ]
    }
   ],
   "source": [
    "programming_language=\"pythonjavadonetscriptreactcc++\"\n",
    "print (programming_language)"
   ]
  },
  {
   "cell_type": "code",
   "execution_count": 5,
   "id": "24ac8f8f-f598-4346-b135-bf5fdbcc9f24",
   "metadata": {},
   "outputs": [
    {
     "name": "stdout",
     "output_type": "stream",
     "text": [
      "programming_language:\n",
      "python\n",
      "java\n",
      "donet\n",
      "script\n",
      "react\n",
      "c\n",
      "c++\n"
     ]
    }
   ],
   "source": [
    "#using \\n\n",
    "print (\"programming_language:\\npython\\njava\\ndonet\\nscript\\nreact\\nc\\nc++\")"
   ]
  },
  {
   "cell_type": "code",
   "execution_count": 6,
   "id": "fed247bc-e2e4-41bc-b94d-618d97233fb7",
   "metadata": {},
   "outputs": [
    {
     "name": "stdout",
     "output_type": "stream",
     "text": [
      "programming_language:\n",
      "\tpython\n",
      "\tjava\n",
      "\tdonet\n",
      "\tscript\n",
      "\treact\n",
      "c\n",
      "c++\n"
     ]
    }
   ],
   "source": [
    "# using \\t \n",
    "print (\"programming_language:\\n\\tpython\\n\\tjava\\n\\tdonet\\n\\tscript\\n\\treact\\nc\\nc++\")# to see the difference i haven't use \\t in c & c++\n",
    "\n"
   ]
  },
  {
   "cell_type": "code",
   "execution_count": 7,
   "id": "33b1eaa1-8758-4641-a357-195d8cb80fb9",
   "metadata": {},
   "outputs": [
    {
     "name": "stdout",
     "output_type": "stream",
     "text": [
      " Arun\n"
     ]
    }
   ],
   "source": [
    "#removing whitespaces\n",
    "name=\" arun\"\n",
    "print(name.title())"
   ]
  },
  {
   "cell_type": "code",
   "execution_count": 8,
   "id": "ac93ce9b-7da8-4ff9-9fd8-5fff1360fb93",
   "metadata": {},
   "outputs": [
    {
     "name": "stdout",
     "output_type": "stream",
     "text": [
      "kumar \n"
     ]
    }
   ],
   "source": [
    "name2=\"kumar \"\n",
    "print(name2)"
   ]
  },
  {
   "cell_type": "code",
   "execution_count": 10,
   "id": "e6612016-14bd-4225-b37e-5cdeccb1bc33",
   "metadata": {},
   "outputs": [
    {
     "name": "stdout",
     "output_type": "stream",
     "text": [
      "arun\n",
      " arun\n",
      "arun\n"
     ]
    }
   ],
   "source": [
    "print(name.lstrip())\n",
    "print(name.rstrip())\n",
    "print(name.strip())"
   ]
  },
  {
   "cell_type": "code",
   "execution_count": 11,
   "id": "db06d018-3267-41cd-aad1-a7eec1f4fa9b",
   "metadata": {},
   "outputs": [
    {
     "name": "stdout",
     "output_type": "stream",
     "text": [
      "The Zen of Python, by Tim Peters\n",
      "\n",
      "Beautiful is better than ugly.\n",
      "Explicit is better than implicit.\n",
      "Simple is better than complex.\n",
      "Complex is better than complicated.\n",
      "Flat is better than nested.\n",
      "Sparse is better than dense.\n",
      "Readability counts.\n",
      "Special cases aren't special enough to break the rules.\n",
      "Although practicality beats purity.\n",
      "Errors should never pass silently.\n",
      "Unless explicitly silenced.\n",
      "In the face of ambiguity, refuse the temptation to guess.\n",
      "There should be one-- and preferably only one --obvious way to do it.\n",
      "Although that way may not be obvious at first unless you're Dutch.\n",
      "Now is better than never.\n",
      "Although never is often better than *right* now.\n",
      "If the implementation is hard to explain, it's a bad idea.\n",
      "If the implementation is easy to explain, it may be a good idea.\n",
      "Namespaces are one honking great idea -- let's do more of those!\n"
     ]
    }
   ],
   "source": [
    "import this\n"
   ]
  },
  {
   "cell_type": "code",
   "execution_count": null,
   "id": "273b6edf-92fe-46b3-83a4-95e1a5150f67",
   "metadata": {},
   "outputs": [],
   "source": []
  },
  {
   "cell_type": "code",
   "execution_count": null,
   "id": "d25afba8-63f6-4cc2-b8fb-e946cd7928f3",
   "metadata": {},
   "outputs": [],
   "source": []
  }
 ],
 "metadata": {
  "kernelspec": {
   "display_name": "Python 3 (ipykernel)",
   "language": "python",
   "name": "python3"
  },
  "language_info": {
   "codemirror_mode": {
    "name": "ipython",
    "version": 3
   },
   "file_extension": ".py",
   "mimetype": "text/x-python",
   "name": "python",
   "nbconvert_exporter": "python",
   "pygments_lexer": "ipython3",
   "version": "3.11.7"
  }
 },
 "nbformat": 4,
 "nbformat_minor": 5
}
