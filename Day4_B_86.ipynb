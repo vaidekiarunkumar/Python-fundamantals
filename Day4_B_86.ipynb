{
 "cells": [
  {
   "cell_type": "code",
   "execution_count": 1,
   "id": "0e7d4124-0a79-48ca-9600-67d9264fd91c",
   "metadata": {},
   "outputs": [
    {
     "name": "stdout",
     "output_type": "stream",
     "text": [
      "['emily', 'anna', 'annie', 'christy']\n"
     ]
    }
   ],
   "source": [
    "#list datatype\n",
    "students=['emily','anna', 'annie','christy']\n",
    "print(students)\n"
   ]
  },
  {
   "cell_type": "code",
   "execution_count": 33,
   "id": "4940cebc-80ce-4a76-bbc6-e2cb2bd4cc3e",
   "metadata": {},
   "outputs": [
    {
     "name": "stdout",
     "output_type": "stream",
     "text": [
      "['emily', 'anna', 'annie', 'christy']\n",
      "annie\n",
      "Annie\n"
     ]
    }
   ],
   "source": [
    "students=['emily','anna', 'annie','christy']\n",
    "print(students)\n",
    "print (students[2])# indexing position\n",
    "print(students[2].title())\n"
   ]
  },
  {
   "cell_type": "code",
   "execution_count": 4,
   "id": "2bbb3df7-0f96-4598-a0cf-0b66ee8f1518",
   "metadata": {},
   "outputs": [
    {
     "data": {
      "text/plain": [
       "list"
      ]
     },
     "execution_count": 4,
     "metadata": {},
     "output_type": "execute_result"
    }
   ],
   "source": [
    "type(students)\n"
   ]
  },
  {
   "cell_type": "code",
   "execution_count": 34,
   "id": "0a0b4e4f-98e3-42d2-b654-16beae92d3b2",
   "metadata": {},
   "outputs": [
    {
     "name": "stdout",
     "output_type": "stream",
     "text": [
      "['emily', 'anna', 'annie', 'christy', 'clara']\n"
     ]
    }
   ],
   "source": [
    "students.append('clara') # add the name to list\n",
    "print(students)"
   ]
  },
  {
   "cell_type": "code",
   "execution_count": 29,
   "id": "cd79cf7d-f45c-4a2a-865e-9ff996e75237",
   "metadata": {},
   "outputs": [
    {
     "name": "stdout",
     "output_type": "stream",
     "text": [
      "['emily', 'zara', 'anna', 'annie', 'christy', 'clara']\n"
     ]
    }
   ],
   "source": [
    "students.insert(1,'zara')#add the name with indexing\n",
    "print (students)"
   ]
  },
  {
   "cell_type": "code",
   "execution_count": 30,
   "id": "15d6c258-f316-431a-b550-f2ee7c6a4ab9",
   "metadata": {},
   "outputs": [
    {
     "name": "stdout",
     "output_type": "stream",
     "text": [
      "['emily', 'zara', 'anna', 'christy', 'clara']\n"
     ]
    }
   ],
   "source": [
    "del students[3]#permanent delete\n",
    "print(students)"
   ]
  },
  {
   "cell_type": "code",
   "execution_count": 31,
   "id": "477dc76a-ceb7-4abb-b04b-cbab50396c2f",
   "metadata": {},
   "outputs": [
    {
     "name": "stdout",
     "output_type": "stream",
     "text": [
      "['emily', 'zara', 'daisy', 'christy', 'clara']\n"
     ]
    }
   ],
   "source": [
    "students[2]='daisy'#modify means replace element to other\n",
    "print(students)"
   ]
  },
  {
   "cell_type": "code",
   "execution_count": 9,
   "id": "528731bc-d152-478f-9af4-93612c9a874b",
   "metadata": {},
   "outputs": [
    {
     "name": "stdout",
     "output_type": "stream",
     "text": [
      "clara\n"
     ]
    }
   ],
   "source": [
    "d=students.pop()#temporary deleting last element\n",
    "print(d)"
   ]
  },
  {
   "cell_type": "code",
   "execution_count": 10,
   "id": "aab5c8bb-2676-406b-8f40-ae5445f69778",
   "metadata": {},
   "outputs": [
    {
     "name": "stdout",
     "output_type": "stream",
     "text": [
      "zara\n",
      "['emily', 'daisy']\n"
     ]
    }
   ],
   "source": [
    "e=students.pop(1)#indexing the postion for temporaray delete\n",
    "print (e)\n",
    "print(students)"
   ]
  },
  {
   "cell_type": "code",
   "execution_count": null,
   "id": "b172ca6f-74f4-43b1-9f61-40b73e97826f",
   "metadata": {},
   "outputs": [],
   "source": []
  }
 ],
 "metadata": {
  "kernelspec": {
   "display_name": "Python 3 (ipykernel)",
   "language": "python",
   "name": "python3"
  },
  "language_info": {
   "codemirror_mode": {
    "name": "ipython",
    "version": 3
   },
   "file_extension": ".py",
   "mimetype": "text/x-python",
   "name": "python",
   "nbconvert_exporter": "python",
   "pygments_lexer": "ipython3",
   "version": "3.11.7"
  }
 },
 "nbformat": 4,
 "nbformat_minor": 5
}
