{
 "cells": [
  {
   "cell_type": "code",
   "execution_count": 1,
   "id": "a0e14428-dfd5-4112-8b33-372bdd705774",
   "metadata": {},
   "outputs": [
    {
     "name": "stdout",
     "output_type": "stream",
     "text": [
      "['benz', 'audi', 'chrysler', 'honda', 'hundai', 'mazda']\n"
     ]
    }
   ],
   "source": [
    "#organising the list datatye\n",
    "cars=['benz','audi','chrysler','honda','hundai','mazda']\n",
    "print(cars)"
   ]
  },
  {
   "cell_type": "code",
   "execution_count": 2,
   "id": "5dae5e2e-4e1e-40d2-ae4d-6e30750a597a",
   "metadata": {},
   "outputs": [
    {
     "name": "stdout",
     "output_type": "stream",
     "text": [
      "['audi', 'benz', 'chrysler', 'honda', 'hundai', 'mazda']\n"
     ]
    }
   ],
   "source": [
    "print(sorted(cars)) # sort it A to z order temporarily"
   ]
  },
  {
   "cell_type": "code",
   "execution_count": 3,
   "id": "3cdf7a4b-82ca-4516-bda1-a0160083bab1",
   "metadata": {},
   "outputs": [
    {
     "name": "stdout",
     "output_type": "stream",
     "text": [
      "['audi', 'benz', 'chrysler', 'honda', 'hundai', 'mazda']\n"
     ]
    }
   ],
   "source": [
    "cars.sort() # sort the list A to Z order permanently\n",
    "print(cars)"
   ]
  },
  {
   "cell_type": "code",
   "execution_count": 8,
   "id": "e43c9b1a-1f9a-412d-a7a4-80cb24720cdc",
   "metadata": {},
   "outputs": [
    {
     "name": "stdout",
     "output_type": "stream",
     "text": [
      "['mazda', 'hundai', 'honda', 'chrysler', 'benz', 'audi']\n"
     ]
    },
    {
     "data": {
      "text/plain": [
       "6"
      ]
     },
     "execution_count": 8,
     "metadata": {},
     "output_type": "execute_result"
    }
   ],
   "source": [
    "cars.reverse() # sort it z to A order\n",
    "print(cars)\n",
    "len(cars)"
   ]
  },
  {
   "cell_type": "code",
   "execution_count": 9,
   "id": "4f3fbd04-a25f-4f2d-a73e-654c11eebfac",
   "metadata": {},
   "outputs": [
    {
     "name": "stdout",
     "output_type": "stream",
     "text": [
      "['mazda', 'hundai', 'honda', 'chrysler', 'benz', 'audi']\n"
     ]
    },
    {
     "data": {
      "text/plain": [
       "list"
      ]
     },
     "execution_count": 9,
     "metadata": {},
     "output_type": "execute_result"
    }
   ],
   "source": [
    "print(cars)\n",
    "type(cars)"
   ]
  },
  {
   "cell_type": "code",
   "execution_count": null,
   "id": "5c7b85a1-9ca6-4c17-b8e2-6550ca0430d8",
   "metadata": {},
   "outputs": [],
   "source": []
  },
  {
   "cell_type": "code",
   "execution_count": null,
   "id": "5d41173c-e835-4c99-abf7-8cabb273a547",
   "metadata": {},
   "outputs": [],
   "source": []
  },
  {
   "cell_type": "code",
   "execution_count": null,
   "id": "f5235d55-e35b-4bf8-af21-96b126da7667",
   "metadata": {},
   "outputs": [],
   "source": []
  }
 ],
 "metadata": {
  "kernelspec": {
   "display_name": "Python 3 (ipykernel)",
   "language": "python",
   "name": "python3"
  },
  "language_info": {
   "codemirror_mode": {
    "name": "ipython",
    "version": 3
   },
   "file_extension": ".py",
   "mimetype": "text/x-python",
   "name": "python",
   "nbconvert_exporter": "python",
   "pygments_lexer": "ipython3",
   "version": "3.11.7"
  }
 },
 "nbformat": 4,
 "nbformat_minor": 5
}
