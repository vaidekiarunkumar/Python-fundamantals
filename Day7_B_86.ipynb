{
 "cells": [
  {
   "cell_type": "code",
   "execution_count": 1,
   "id": "4c9a1da9-0599-43b8-a2e2-11ce2620479d",
   "metadata": {},
   "outputs": [
    {
     "name": "stdout",
     "output_type": "stream",
     "text": [
      "['david', 'thomas', 'daisy', 'christy', 'remo', 'emma']\n"
     ]
    }
   ],
   "source": [
    "students=['david', 'thomas','daisy','christy','remo', 'emma']\n",
    "print(students)"
   ]
  },
  {
   "cell_type": "code",
   "execution_count": 2,
   "id": "e648bf91-64df-42c9-b95c-fb3db1d5db21",
   "metadata": {},
   "outputs": [
    {
     "data": {
      "text/plain": [
       "list"
      ]
     },
     "execution_count": 2,
     "metadata": {},
     "output_type": "execute_result"
    }
   ],
   "source": [
    "type(students)"
   ]
  },
  {
   "cell_type": "code",
   "execution_count": 5,
   "id": "a55f0b76-7d99-434f-9078-6c3c79151394",
   "metadata": {},
   "outputs": [
    {
     "name": "stdout",
     "output_type": "stream",
     "text": [
      "['david']\n"
     ]
    }
   ],
   "source": [
    "print(students[0:1])\n"
   ]
  },
  {
   "cell_type": "code",
   "execution_count": 6,
   "id": "2c6846e0-9455-4f79-8f76-83cb95537c7d",
   "metadata": {},
   "outputs": [
    {
     "name": "stdout",
     "output_type": "stream",
     "text": [
      "['david', 'thomas', 'daisy']\n"
     ]
    }
   ],
   "source": [
    "print(students[0:3])"
   ]
  },
  {
   "cell_type": "code",
   "execution_count": 7,
   "id": "29a03d6d-90e9-487b-94c0-3488911306aa",
   "metadata": {},
   "outputs": [
    {
     "name": "stdout",
     "output_type": "stream",
     "text": [
      "['david', 'christy']\n"
     ]
    }
   ],
   "source": [
    "print(students[0:6:3])"
   ]
  },
  {
   "cell_type": "code",
   "execution_count": 8,
   "id": "f6b5362b-b9ce-4ada-bb1f-584004c77335",
   "metadata": {},
   "outputs": [
    {
     "name": "stdout",
     "output_type": "stream",
     "text": [
      "['david', 'thomas', 'daisy', 'christy', 'remo']\n"
     ]
    }
   ],
   "source": [
    "print(students[0:5:1])"
   ]
  },
  {
   "cell_type": "code",
   "execution_count": 10,
   "id": "f03d86ff-d68e-4b23-8c4d-519bffec31e3",
   "metadata": {},
   "outputs": [
    {
     "name": "stdout",
     "output_type": "stream",
     "text": [
      " hello all , good morning.Have nice day David\n"
     ]
    }
   ],
   "source": [
    "message=f\" hello all , good morning.Have nice day {students[0].title()}\"\n",
    "print(message)"
   ]
  },
  {
   "cell_type": "code",
   "execution_count": 19,
   "id": "af5ae8e4-cbba-4ad0-8b28-de29c2d792d8",
   "metadata": {},
   "outputs": [
    {
     "name": "stdout",
     "output_type": "stream",
     "text": [
      " hello all , good morning.have a nice day david\n",
      " hello all , good morning.have a nice day thomas\n",
      " hello all , good morning.have a nice day daisy\n",
      " hello all , good morning.have a nice day christy\n",
      " hello all , good morning.have a nice day remo\n",
      " hello all , good morning.have a nice day emma\n"
     ]
    }
   ],
   "source": [
    "for x in students:\n",
    " print(f\" hello all , good morning.have a nice day {x}\")"
   ]
  },
  {
   "cell_type": "code",
   "execution_count": 22,
   "id": "b6f9113d-54f6-4725-9210-829451f64823",
   "metadata": {},
   "outputs": [
    {
     "name": "stdout",
     "output_type": "stream",
     "text": [
      " hello all , good morning.have a nice day david\n",
      "\n",
      " hello all , good morning.have a nice day thomas\n",
      "\n",
      " hello all , good morning.have a nice day daisy\n",
      "\n",
      " hello all , good morning.have a nice day christy\n",
      "\n",
      " hello all , good morning.have a nice day remo\n",
      "\n",
      " hello all , good morning.have a nice day emma\n",
      "\n"
     ]
    }
   ],
   "source": [
    "for x in students:\n",
    "  print(f\" hello all , good morning.have a nice day {x}\\n\")"
   ]
  },
  {
   "cell_type": "code",
   "execution_count": null,
   "id": "a62edf83-a249-456f-8feb-166235e32fcf",
   "metadata": {},
   "outputs": [],
   "source": []
  }
 ],
 "metadata": {
  "kernelspec": {
   "display_name": "Python 3 (ipykernel)",
   "language": "python",
   "name": "python3"
  },
  "language_info": {
   "codemirror_mode": {
    "name": "ipython",
    "version": 3
   },
   "file_extension": ".py",
   "mimetype": "text/x-python",
   "name": "python",
   "nbconvert_exporter": "python",
   "pygments_lexer": "ipython3",
   "version": "3.11.7"
  }
 },
 "nbformat": 4,
 "nbformat_minor": 5
}
